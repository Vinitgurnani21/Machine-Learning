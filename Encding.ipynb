{
  "cells": [
    {
      "cell_type": "markdown",
      "metadata": {},
      "source": [
        "## Label encoding"
      ]
    },
    {
      "cell_type": "code",
      "execution_count": 1,
      "metadata": {
        "colab": {
          "base_uri": "https://localhost:8080/"
        },
        "id": "clMuhjcXALre",
        "outputId": "6ce9b63e-f1cc-4263-eeeb-358673e213a5"
      },
      "outputs": [
        {
          "name": "stdout",
          "output_type": "stream",
          "text": [
            "   colors\n",
            "0     red\n",
            "1   green\n",
            "2  orange\n",
            "3  yellow\n"
          ]
        }
      ],
      "source": [
        "color =['red','green','orange','yellow']\n",
        "\n",
        "import pandas as pd\n",
        "\n",
        "from sklearn.preprocessing import LabelEncoder\n",
        "color =['red','green','orange','yellow']\n",
        "\n",
        "df =pd.DataFrame(color , columns=['colors'])\n",
        "print(df)\n"
      ]
    },
    {
      "cell_type": "code",
      "execution_count": 2,
      "metadata": {
        "colab": {
          "base_uri": "https://localhost:8080/"
        },
        "id": "N64vG92mAyDp",
        "outputId": "642b0ccc-8168-4883-9ebf-fbc12f42b659"
      },
      "outputs": [
        {
          "name": "stdout",
          "output_type": "stream",
          "text": [
            "   colors  color_encoded\n",
            "0     red              2\n",
            "1   green              0\n",
            "2  orange              1\n",
            "3  yellow              3\n"
          ]
        }
      ],
      "source": [
        "label_encorder  =LabelEncoder()\n",
        "\n",
        "\n",
        "df['color_encoded'] = label_encorder.fit_transform(df['colors'])\n",
        "\n",
        "print(df)"
      ]
    },
    {
      "cell_type": "markdown",
      "metadata": {},
      "source": [
        "Here, Label Encoding encodes the categorical data by alphabetical order, like <br/>\n",
        "- -> 'green'(g) comes first so it is encoded as 0\n",
        "- ->  then comes 'orange' so it encoded as 1\n",
        "- ->  then 'red' as 2\n",
        "- ->  then 'yellow' as 3\n",
        "\n",
        "this is how label encoding works"
      ]
    },
    {
      "cell_type": "markdown",
      "metadata": {
        "id": "tNhB9f7wBSG6"
      },
      "source": [
        "## One hot encorder"
      ]
    },
    {
      "cell_type": "code",
      "execution_count": 3,
      "metadata": {
        "id": "uae8Iq_OBUI6"
      },
      "outputs": [
        {
          "name": "stdout",
          "output_type": "stream",
          "text": [
            "   colors\n",
            "0     red\n",
            "1   green\n",
            "2  orange\n",
            "3  yellow\n",
            "4     red\n",
            "5   green\n",
            "6   black\n"
          ]
        }
      ],
      "source": [
        "color =['red','green','orange','yellow','red','green','black']\n",
        "df =pd.DataFrame(color, columns=['colors'])\n",
        "print(df)"
      ]
    },
    {
      "cell_type": "code",
      "execution_count": 4,
      "metadata": {
        "colab": {
          "base_uri": "https://localhost:8080/"
        },
        "id": "UlKPCLUlB3jF",
        "outputId": "848ab0a9-33bc-4cc0-aeb2-7f95dd689ee0"
      },
      "outputs": [
        {
          "name": "stdout",
          "output_type": "stream",
          "text": [
            "   colors_black  colors_green  colors_orange  colors_red  colors_yellow\n",
            "0             0             0              0           1              0\n",
            "1             0             1              0           0              0\n",
            "2             0             0              1           0              0\n",
            "3             0             0              0           0              1\n",
            "4             0             0              0           1              0\n",
            "5             0             1              0           0              0\n",
            "6             1             0              0           0              0\n"
          ]
        }
      ],
      "source": [
        "df_one_hot =pd.get_dummies(df, columns=['colors'])\n",
        "\n",
        "df_one_hot=df_one_hot.astype(int)\n",
        "print(df_one_hot)"
      ]
    },
    {
      "cell_type": "markdown",
      "metadata": {},
      "source": [
        "The one hot encoding create seperate columns for each unique values and assign 0 or 1 accordingly, like <br/>\n",
        "\n",
        "-> first row has red color so 'column_red' assigned 1 in first rows & rest all columns as 0 <br/>\n",
        "-> second row has green color so 'column_green' assigned as 1 & rest columns as 0 <br/>\n",
        "-> ..... continued till end\n",
        "\n",
        "this is how one hot encoding works"
      ]
    },
    {
      "cell_type": "markdown",
      "metadata": {},
      "source": [
        "## Ordinal Encoding"
      ]
    },
    {
      "cell_type": "code",
      "execution_count": 5,
      "metadata": {
        "colab": {
          "base_uri": "https://localhost:8080/"
        },
        "id": "TFbBrXQIC-B2",
        "outputId": "0c0241ae-61d1-485d-e65c-f8008a345538"
      },
      "outputs": [
        {
          "name": "stdout",
          "output_type": "stream",
          "text": [
            "  Satisfaction_level\n",
            "0                low\n",
            "1             medium\n",
            "2               high\n",
            "3                low\n",
            "4               high\n",
            "5             medium\n",
            "  Satisfaction_level  ordinal_encorder\n",
            "0                low               2.0\n",
            "1             medium               1.0\n",
            "2               high               0.0\n",
            "3                low               2.0\n",
            "4               high               0.0\n",
            "5             medium               1.0\n"
          ]
        }
      ],
      "source": [
        "from sklearn.preprocessing import OrdinalEncoder\n",
        "data  ={\n",
        "    'Satisfaction_level':['low','medium','high','low','high','medium']\n",
        "}\n",
        "df =pd.DataFrame(data)\n",
        "print(df)\n",
        "\n",
        "categories =['high','medium','low']         # Assigned in order as this mentioned like high is first mentioned so 0\n",
        "                                                                                            # medium is second do 1\n",
        "encoder =OrdinalEncoder(categories=[categories])                                            # low is third so 2\n",
        "\n",
        "\n",
        "df['ordinal_encorder']= encoder.fit_transform(df[['Satisfaction_level']])\n",
        "print(df)\n",
        "\n"
      ]
    },
    {
      "cell_type": "markdown",
      "metadata": {
        "id": "Tn5wFPiYBbp4"
      },
      "source": [
        "The ordinal encoding takes the categories order and encodes the data as mentioned like,\n",
        "\n",
        "-> High mentioned first so it will encoded as 0 <br/>\n",
        "-> medium mentioned second so it will encoded as 1 <br/>\n",
        "-> low mentioned third so it will encoded as 2\n",
        "\n",
        "this is how ordinal encoding works"
      ]
    },
    {
      "cell_type": "markdown",
      "metadata": {},
      "source": [
        "END"
      ]
    },
    {
      "cell_type": "markdown",
      "metadata": {},
      "source": [
        "---"
      ]
    }
  ],
  "metadata": {
    "colab": {
      "provenance": []
    },
    "kernelspec": {
      "display_name": "Python 3",
      "name": "python3"
    },
    "language_info": {
      "codemirror_mode": {
        "name": "ipython",
        "version": 3
      },
      "file_extension": ".py",
      "mimetype": "text/x-python",
      "name": "python",
      "nbconvert_exporter": "python",
      "pygments_lexer": "ipython3",
      "version": "3.12.1"
    }
  },
  "nbformat": 4,
  "nbformat_minor": 0
}
